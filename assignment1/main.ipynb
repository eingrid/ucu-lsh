{
 "cells": [
  {
   "cell_type": "code",
   "execution_count": 93,
   "id": "85195a94",
   "metadata": {},
   "outputs": [],
   "source": [
    "import random\n",
    "from typing import Generator\n",
    "\n",
    "FILE_PATH = \"ml-1m/ratings.dat\"\n",
    "\n"
   ]
  },
  {
   "cell_type": "code",
   "execution_count": 94,
   "id": "7d13aa89",
   "metadata": {},
   "outputs": [],
   "source": [
    "def get_sample(file_path: str) -> Generator[tuple[int, int], None, None]:\n",
    "    #1::1193::5::978300760\n",
    "    \"\"\"\n",
    "    UserID::MovieID::Rating::Timestamp\n",
    "\n",
    "    - UserIDs range between 1 and 6040 \n",
    "    - MovieIDs range between 1 and 3952\n",
    "    - Ratings are made on a 5-star scale (whole-star ratings only)\n",
    "    - Timestamp is represented in seconds since the epoch as returned by time(2)\n",
    "    - Each user has at least 20 ratings\n",
    "\n",
    "    Returns: Generator of tuples (UserID, MovieID)\n",
    "    \"\"\"\n",
    "    \n",
    "    with open(file_path, 'r', encoding='utf-8') as f:\n",
    "        for line in f:\n",
    "            content = line.strip()\n",
    "            if content:  \n",
    "                parts = content.split(\"::\")\n",
    "                sample = (int(parts[0]), int(parts[1]))\n",
    "                yield sample"
   ]
  },
  {
   "cell_type": "code",
   "execution_count": 95,
   "id": "5aee03c1",
   "metadata": {},
   "outputs": [],
   "source": [
    "def trailing_zeros(n: int) -> int:\n",
    "    \"\"\"Count trailing zeros in binary representation of n\"\"\"\n",
    "\n",
    "    # skip the '0b1' prefix (as mentioned in reference video)\n",
    "    binary_str = bin(n)[2:]\n",
    "    total_zeros = 0\n",
    "    for char in reversed(binary_str):\n",
    "        if char == '0':\n",
    "            total_zeros += 1\n",
    "        else:\n",
    "            break\n",
    "    return total_zeros\n",
    "\n",
    "def median(values: list[float]) -> float:\n",
    "    \"\"\"Return the median of a list of numbers.\"\"\"\n",
    "    n = len(values)\n",
    "    if n == 0:\n",
    "        raise ValueError(\"median() arg is an empty sequence\")\n",
    "    sorted_vals = sorted(values)\n",
    "    mid = n // 2\n",
    "    if n % 2 == 1:\n",
    "        return sorted_vals[mid]\n",
    "    else:\n",
    "        return (sorted_vals[mid - 1] + sorted_vals[mid]) / 2\n",
    "    \n",
    "def trailing_zeros(n: int, register_bits: int) -> tuple[int,int]:\n",
    "    \"\"\"Count trailing zeros in binary representation of n\"\"\"\n",
    "\n",
    "    # skip the '0b1' prefix (as mentioned in reference video)\n",
    "    binary_str = bin(n)[2:]\n",
    "\n",
    "    register_bits_str = binary_str[:register_bits] or '0'\n",
    "    bitmap = binary_str[register_bits:]\n",
    "    register_id = int(register_bits_str, 2)\n",
    "\n",
    "    total_zeros = 0\n",
    "    for char in reversed(bitmap):\n",
    "        if char == '0':\n",
    "            total_zeros += 1\n",
    "        else:\n",
    "            break\n",
    "    return register_id, total_zeros"
   ]
  },
  {
   "cell_type": "code",
   "execution_count": 96,
   "id": "10a50971",
   "metadata": {},
   "outputs": [
    {
     "name": "stdout",
     "output_type": "stream",
     "text": [
      "Using 1 registers (0 bits each)\n",
      "Total binary string length: 20 bits\n"
     ]
    }
   ],
   "source": [
    "# 2 reg - 1 bit\n",
    "# 4 reg - 2 bits\n",
    "# 8 reg - 3 bits\n",
    "# 16 reg - 4 bits\n",
    "\n",
    "# FM uses 1 register, HLL uses multiple registers (for some reason not works with HLL case)\n",
    "NUM_REGISTERS_BITS  = 0\n",
    "NUM_REGISTERS = 2 ** NUM_REGISTERS_BITS\n",
    "# at least R = log_2(N) -> N = 2^R, 1M elements - at least 20 binary str lenghth + NUM_REGISTERS_BITS for registers\n",
    "binary_str_length = 20 + NUM_REGISTERS_BITS\n",
    "\n",
    "print(f\"Using {NUM_REGISTERS} registers ({NUM_REGISTERS_BITS} bits each)\")\n",
    "print(f\"Total binary string length: {binary_str_length} bits\")"
   ]
  },
  {
   "cell_type": "code",
   "execution_count": 97,
   "id": "34c06b8b",
   "metadata": {},
   "outputs": [],
   "source": [
    "def multiplicative_hash_function(x):\n",
    "    '''Knuth's multiplicative hash function'''\n",
    "    shift = (1 << binary_str_length) \n",
    "    mask = shift - 1\n",
    "    return (x * 2654435761) & mask  \n",
    "\n",
    "def default_hash_function(x: int) -> int:\n",
    "    '''Python's built-in hash function'''\n",
    "\n",
    "    # this gives 2**binary_str_length in binary (like 1000000...)\n",
    "    shift = (1 << binary_str_length) \n",
    "    mask = shift - 1\n",
    "    #return only the lower binary_str_length bits\n",
    "    return hash(x) & mask"
   ]
  },
  {
   "cell_type": "code",
   "execution_count": 98,
   "id": "3fe89ea0",
   "metadata": {},
   "outputs": [],
   "source": [
    "def get_alpha(num_registers: int) -> float:\n",
    "    \"\"\"Get the alpha constant based on the number of registers.\"\"\"\n",
    "    if num_registers >= 16 and num_registers < 32:\n",
    "        alpha = 0.673\n",
    "    elif num_registers >= 32 and num_registers < 64:\n",
    "        alpha = 0.697\n",
    "    elif num_registers >= 64 and num_registers < 128:\n",
    "        alpha = 0.709\n",
    "    elif num_registers >= 128:\n",
    "        alpha = 0.7213 / (1 + 1.079 / num_registers)\n",
    "    else:\n",
    "        alpha = 0.5  # rough approximation for smaller m\n",
    "    return alpha"
   ]
  },
  {
   "cell_type": "code",
   "execution_count": 99,
   "id": "65c91c39",
   "metadata": {},
   "outputs": [
    {
     "name": "stdout",
     "output_type": "stream",
     "text": [
      "Approx of total unique users:  5295.342012385101\n",
      "Approx of 10% of unique movies:  371\n"
     ]
    }
   ],
   "source": [
    "register_table = {}\n",
    "ten_percent_of_movies = set()\n",
    "\n",
    "for entry in get_sample(FILE_PATH):\n",
    "    user_hash = multiplicative_hash_function(entry[0])\n",
    "    movie_hash = multiplicative_hash_function(entry[1])\n",
    "  \n",
    "    # can be any hash remainder from 0 to 9\n",
    "    if movie_hash % 10 == 1:\n",
    "        ten_percent_of_movies.add(entry[1]) \n",
    "\n",
    "    register_id, tz = trailing_zeros(user_hash, NUM_REGISTERS_BITS)\n",
    "    if register_id not in register_table:\n",
    "        register_table[register_id] = tz\n",
    "    else:\n",
    "        if tz > register_table[register_id]:\n",
    "            register_table[register_id] = tz\n",
    "\n",
    "# Estimate number of unique users\n",
    "estimates = []\n",
    "for reg_id, tz in register_table.items():\n",
    "    estimate = 2 ** tz / 0.77351\n",
    "    estimates.append(estimate)\n",
    "\n",
    "final_estimate = sum(estimates)/len(estimates) #NUM_REGISTERS ** 2 / sum(1 / est for est in estimates)\n",
    "print(\"Approx of total unique users: \", final_estimate)\n",
    "print(\"Approx of 10% of unique movies: \", len(ten_percent_of_movies))\n"
   ]
  },
  {
   "cell_type": "markdown",
   "id": "7ce91d9b",
   "metadata": {},
   "source": [
    "#### Compare with ground truth"
   ]
  },
  {
   "cell_type": "code",
   "execution_count": 100,
   "id": "0a8f47e8",
   "metadata": {},
   "outputs": [
    {
     "name": "stdout",
     "output_type": "stream",
     "text": [
      "Ground truth unique users: 6040\n",
      "Ground truth unique movies: 3706\n",
      "10% of unique movies  370\n"
     ]
    }
   ],
   "source": [
    "unqiue_movies = set()\n",
    "unique_users = set()\n",
    "for entry in get_sample(FILE_PATH):\n",
    "    unique_users.add(entry[0])\n",
    "    unqiue_movies.add(entry[1])\n",
    "\n",
    "print(f\"Ground truth unique users: {len(unique_users)}\")\n",
    "print(f\"Ground truth unique movies: {len(unqiue_movies)}\")\n",
    "\n",
    "print(\"10% of unique movies \", len(unqiue_movies) // 10)"
   ]
  }
 ],
 "metadata": {
  "kernelspec": {
   "display_name": "ucu (3.13.7)",
   "language": "python",
   "name": "python3"
  },
  "language_info": {
   "codemirror_mode": {
    "name": "ipython",
    "version": 3
   },
   "file_extension": ".py",
   "mimetype": "text/x-python",
   "name": "python",
   "nbconvert_exporter": "python",
   "pygments_lexer": "ipython3",
   "version": "3.13.7"
  }
 },
 "nbformat": 4,
 "nbformat_minor": 5
}
